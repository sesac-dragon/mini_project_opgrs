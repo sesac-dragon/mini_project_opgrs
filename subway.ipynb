{
 "cells": [
  {
   "cell_type": "code",
   "execution_count": 1,
   "id": "7cf82acf",
   "metadata": {},
   "outputs": [],
   "source": [
    "import pymysql\n",
    "import pandas as pd\n",
    "import matplotlib.pyplot as plt"
   ]
  },
  {
   "cell_type": "code",
   "execution_count": 7,
   "id": "d712ba44",
   "metadata": {},
   "outputs": [
    {
     "name": "stdout",
     "output_type": "stream",
     "text": [
      "('information_schema',)\n",
      "('mini_project',)\n",
      "('study',)\n"
     ]
    }
   ],
   "source": [
    "import pymysql\n",
    "\n",
    "conn = pymysql.connect(\n",
    "    host='localhost',\n",
    "    user='opgrs',\n",
    "    password='test1234'\n",
    ")\n",
    "\n",
    "cursor = conn.cursor()\n",
    "cursor.execute(\"SHOW DATABASES\")\n",
    "for db in cursor.fetchall():\n",
    "    print(db)\n",
    "\n",
    "conn.close()"
   ]
  },
  {
   "cell_type": "code",
   "execution_count": 6,
   "id": "edb60baa",
   "metadata": {},
   "outputs": [],
   "source": [
    "conn = pymysql.connect(\n",
    "    host = 'localhost',\n",
    "    user = 'opgrs',\n",
    "    password = 'test1234',\n",
    "    db = 'mini_project',\n",
    "    charset = 'utf8mb4'\n",
    ")"
   ]
  },
  {
   "cell_type": "code",
   "execution_count": 6,
   "id": "eb24b15b",
   "metadata": {},
   "outputs": [
    {
     "name": "stderr",
     "output_type": "stream",
     "text": [
      "C:\\Users\\opgrs\\AppData\\Local\\Temp\\ipykernel_27828\\3144941082.py:53: UserWarning: pandas only supports SQLAlchemy connectable (engine/connection) or database string URI or sqlite3 DBAPI2 connection. Other DBAPI2 objects are not tested. Please consider using SQLAlchemy.\n",
      "  df_year = pd.read_sql(sum_query, conn)\n"
     ]
    }
   ],
   "source": [
    "import pymysql\n",
    "import pandas as pd\n",
    "import matplotlib.pyplot as plt\n",
    "\n",
    "\n",
    "\n",
    "\n",
    "conn = pymysql.connect(\n",
    "    host='localhost',\n",
    "    user='opgrs',\n",
    "    password='test1234',\n",
    "    db='mini_project',\n",
    "    charset='utf8mb4'\n",
    ")\n",
    "\n",
    "\n",
    "years = list(range(2015, 2025))\n",
    "all_data = []\n",
    "\n",
    "for year in years:\n",
    "    table_name = f\"subway_{year}\"\n",
    "    sum_query = f\"\"\"\n",
    "        SELECT 지하철역, \n",
    "               SUM(`04-05시 승차인원` + `04-05시 하차인원` +\n",
    "                   `05-06시 승차인원` + `05-06시 하차인원` +\n",
    "                   `06-07시 승차인원` + `06-07시 하차인원` +\n",
    "                   `07-08시 승차인원` + `07-08시 하차인원` +\n",
    "                   `08-09시 승차인원` + `08-09시 하차인원` +\n",
    "                   `09-10시 승차인원` + `09-10시 하차인원` +\n",
    "                   `10-11시 승차인원` + `10-11시 하차인원` +\n",
    "                   `11-12시 승차인원` + `11-12시 하차인원` +\n",
    "                   `12-13시 승차인원` + `12-13시 하차인원` +\n",
    "                   `13-14시 승차인원` + `13-14시 하차인원` +\n",
    "                   `14-15시 승차인원` + `14-15시 하차인원` +\n",
    "                   `15-16시 승차인원` + `15-16시 하차인원` +\n",
    "                   `16-17시 승차인원` + `16-17시 하차인원` +\n",
    "                   `17-18시 승차인원` + `17-18시 하차인원` +\n",
    "                   `18-19시 승차인원` + `18-19시 하차인원` +\n",
    "                   `19-20시 승차인원` + `19-20시 하차인원` +\n",
    "                   `20-21시 승차인원` + `20-21시 하차인원` +\n",
    "                   `21-22시 승차인원` + `21-22시 하차인원` +\n",
    "                   `22-23시 승차인원` + `22-23시 하차인원` +\n",
    "                   `23-24시 승차인원` + `23-24시 하차인원` +\n",
    "                   `00-01시 승차인원` + `00-01시 하차인원` +\n",
    "                   `01-02시 승차인원` + `01-02시 하차인원` +\n",
    "                   `02-03시 승차인원` + `02-03시 하차인원` +\n",
    "                   `03-04시 승차인원` + `03-04시 하차인원`\n",
    "               ) AS 유동인구,\n",
    "               '{year}' AS 연도\n",
    "        FROM {table_name}\n",
    "        GROUP BY 지하철역\n",
    "    \"\"\"\n",
    "    df_year = pd.read_sql(sum_query, conn)\n",
    "    all_data.append(df_year)\n",
    "\n",
    "conn.close()\n",
    "\n"
   ]
  },
  {
   "cell_type": "code",
   "execution_count": 9,
   "id": "493c1c5b",
   "metadata": {},
   "outputs": [],
   "source": [
    "import streamlit as st\n",
    "import seaborn as sns\n",
    "import matplotlib.pyplot as plt\n"
   ]
  },
  {
   "cell_type": "code",
   "execution_count": 18,
   "id": "7807bacb",
   "metadata": {},
   "outputs": [],
   "source": [
    "def main():\n",
    "    st.title('지하철 유동인구')\n",
    "\n",
    "data = pd.read_csv('C:\\\\Users\\\\opgrs\\\\OneDrive\\\\Desktop\\\\미니 프로젝트\\\\서울시 지하철 호선별 역별 시간대별 승하차 인원 정보2.csv')"
   ]
  },
  {
   "cell_type": "code",
   "execution_count": 19,
   "id": "ad4856c8",
   "metadata": {},
   "outputs": [
    {
     "name": "stderr",
     "output_type": "stream",
     "text": [
      "2025-07-23 11:19:31.879 Thread 'MainThread': missing ScriptRunContext! This warning can be ignored when running in bare mode.\n",
      "2025-07-23 11:19:31.883 Thread 'MainThread': missing ScriptRunContext! This warning can be ignored when running in bare mode.\n",
      "2025-07-23 11:19:31.906 Thread 'MainThread': missing ScriptRunContext! This warning can be ignored when running in bare mode.\n"
     ]
    },
    {
     "data": {
      "text/plain": [
       "DeltaGenerator()"
      ]
     },
     "execution_count": 19,
     "metadata": {},
     "output_type": "execute_result"
    }
   ],
   "source": [
    "st.dataframe(data)"
   ]
  },
  {
   "cell_type": "code",
   "execution_count": null,
   "id": "d3616170",
   "metadata": {},
   "outputs": [
    {
     "name": "stderr",
     "output_type": "stream",
     "text": [
      "2025-07-23 11:29:32.599 Thread 'MainThread': missing ScriptRunContext! This warning can be ignored when running in bare mode.\n",
      "2025-07-23 11:29:32.603 Thread 'MainThread': missing ScriptRunContext! This warning can be ignored when running in bare mode.\n",
      "2025-07-23 11:29:32.605 Thread 'MainThread': missing ScriptRunContext! This warning can be ignored when running in bare mode.\n"
     ]
    }
   ],
   "source": [
    "st.title(\"서울시 지하철 유동인구 변화분석\")\n",
    "persons_column = []\n",
    "for col in data.columns:\n",
    "    if '승차인원' or '하차인원' in col:\n",
    "        persons_column.append(col)\n"
   ]
  },
  {
   "cell_type": "code",
   "execution_count": null,
   "id": "ea96011a",
   "metadata": {},
   "outputs": [],
   "source": [
    "# 유동인구 계산\n",
    "data['유동인구'] = 0\n",
    "for col in persons_column:\n",
    "    data['유동인구'] = data['유동인구'] + data[col]"
   ]
  },
  {
   "cell_type": "code",
   "execution_count": null,
   "id": "4bf18a83",
   "metadata": {},
   "outputs": [],
   "source": [
    "st.title(\"서울시 지하철 유동인구 변화분석\")\n",
    "persons_column = []\n",
    "for col in data.columns:\n",
    "    if '승차인원' or '하차인원' in col:\n",
    "        persons_column.append(col)\n",
    "\n",
    "# 유동인구 컬럼을 0으로 초기화 \n",
    "data[\"유동인구\"] = 0.0  \n",
    "\n",
    "# 숫자형 승하차 컬럼만 선택해서 더하기\n",
    "for col in persons_column:\n",
    "    data['유동인구'] = data['유동인구'] + data[col]"
   ]
  },
  {
   "cell_type": "code",
   "execution_count": 31,
   "id": "b624a665",
   "metadata": {},
   "outputs": [
    {
     "name": "stdout",
     "output_type": "stream",
     "text": [
      "사용월 int64\n",
      "호선명 object\n",
      "지하철역 object\n",
      "04시-05시 승차인원 int64\n",
      "04시-05시 하차인원 int64\n",
      "05시-06시 승차인원 int64\n",
      "05시-06시 하차인원 int64\n",
      "06시-07시 승차인원 int64\n",
      "06시-07시 하차인원 int64\n",
      "07시-08시 승차인원 int64\n",
      "07시-08시 하차인원 int64\n",
      "08시-09시 승차인원 int64\n",
      "08시-09시 하차인원 int64\n",
      "09시-10시 승차인원 int64\n",
      "09시-10시 하차인원 int64\n",
      "10시-11시 승차인원 int64\n",
      "10시-11시 하차인원 int64\n",
      "11시-12시 승차인원 int64\n",
      "11시-12시 하차인원 int64\n",
      "12시-13시 승차인원 int64\n",
      "12시-13시 하차인원 int64\n",
      "13시-14시 승차인원 int64\n",
      "13시-14시 하차인원 int64\n",
      "14시-15시 승차인원 int64\n",
      "14시-15시 하차인원 int64\n",
      "15시-16시 승차인원 int64\n",
      "15시-16시 하차인원 int64\n",
      "16시-17시 승차인원 int64\n",
      "16시-17시 하차인원 int64\n",
      "17시-18시 승차인원 int64\n",
      "17시-18시 하차인원 int64\n",
      "18시-19시 승차인원 int64\n",
      "18시-19시 하차인원 int64\n",
      "19시-20시 승차인원 int64\n",
      "19시-20시 하차인원 int64\n",
      "20시-21시 승차인원 int64\n",
      "20시-21시 하차인원 int64\n",
      "21시-22시 승차인원 int64\n",
      "21시-22시 하차인원 int64\n",
      "22시-23시 승차인원 int64\n",
      "22시-23시 하차인원 int64\n",
      "23시-24시 승차인원 int64\n",
      "23시-24시 하차인원 int64\n",
      "00시-01시 승차인원 int64\n",
      "00시-01시 하차인원 int64\n",
      "01시-02시 승차인원 int64\n",
      "01시-02시 하차인원 int64\n",
      "02시-03시 승차인원 int64\n",
      "02시-03시 하차인원 int64\n",
      "03시-04시 승차인원 int64\n",
      "03시-04시 하차인원 int64\n",
      "작업일자 int64\n",
      "유동인구 float64\n"
     ]
    }
   ],
   "source": [
    "for col in persons_column:\n",
    "    print(col, data[col].dtype)"
   ]
  },
  {
   "cell_type": "code",
   "execution_count": 32,
   "id": "53555dcd",
   "metadata": {},
   "outputs": [],
   "source": [
    "person_columns = []\n",
    "for col in data.columns:\n",
    "    if '승차인원' in col or '하차인원' in col:\n",
    "        person_columns.append(col)\n",
    "\n",
    "# 유동인구를 0으로 초기화 (float으로 지정해도 되고, int로도 됨)\n",
    "data[\"유동인구\"] = 0\n",
    "\n",
    "# 유동인구 누적 계산\n",
    "for col in person_columns:\n",
    "    data[\"유동인구\"] = data[\"유동인구\"] + data[col]\n"
   ]
  },
  {
   "cell_type": "code",
   "execution_count": 34,
   "id": "80e7c3c9",
   "metadata": {},
   "outputs": [
    {
     "name": "stdout",
     "output_type": "stream",
     "text": [
      "유동인구 평균 687253.0188253515\n",
      "최대값 7132055\n"
     ]
    }
   ],
   "source": [
    "print('유동인구 평균',data['유동인구'].mean())\n",
    "print('최대값',data['유동인구'].max())"
   ]
  },
  {
   "cell_type": "code",
   "execution_count": 49,
   "id": "56f081ac",
   "metadata": {},
   "outputs": [
    {
     "name": "stdout",
     "output_type": "stream",
     "text": [
      "           지하철역     사용월     유동인구\n",
      "0           동대문  202506   738220\n",
      "1           동묘앞  202506   649122\n",
      "2           서울역  202506  4110772\n",
      "3            시청  202506  1463546\n",
      "4           신설동  202506   811008\n",
      "5           제기동  202506   980207\n",
      "6            종각  202506  2084395\n",
      "7          종로3가  202506  1443406\n",
      "8          종로5가  202506  1348548\n",
      "9  청량리(서울시립대입구)  202506  1337727\n"
     ]
    }
   ],
   "source": [
    "print(data[['지하철역','사용월','유동인구']].head(10))"
   ]
  },
  {
   "cell_type": "code",
   "execution_count": 39,
   "id": "5d402939",
   "metadata": {},
   "outputs": [],
   "source": [
    "year_list = []\n",
    "for y in range(len(data)):\n",
    "    month = data.loc[y,'사용월']\n",
    "    year = month//100\n",
    "    year_list.append(year)\n",
    "data['연도'] = year_list\n"
   ]
  },
  {
   "cell_type": "code",
   "execution_count": 43,
   "id": "e0b6239c",
   "metadata": {},
   "outputs": [],
   "source": [
    "info = data.groupby(['연도','지하철역'])['유동인구'].sum().reset_index()"
   ]
  },
  {
   "cell_type": "code",
   "execution_count": 46,
   "id": "5bab1adc",
   "metadata": {},
   "outputs": [],
   "source": [
    "# 딕셔너리 만들기\n",
    "subway_dict = {}\n",
    "for i in range(len(info)):\n",
    "    station = info.loc[i,'지하철역']\n",
    "    year = info.loc[i,'연도']\n",
    "    float_pop = info.loc[i,'유동인구']\n",
    "\n",
    "    if station not in subway_dict:\n",
    "        subway_dict[station] = {}\n",
    "\n",
    "    subway_dict[station][year] = float_pop\n",
    "\n",
    "\n"
   ]
  },
  {
   "cell_type": "code",
   "execution_count": 48,
   "id": "8db31c84",
   "metadata": {},
   "outputs": [
    {
     "name": "stderr",
     "output_type": "stream",
     "text": [
      "2025-07-23 12:19:51.240 Thread 'MainThread': missing ScriptRunContext! This warning can be ignored when running in bare mode.\n",
      "2025-07-23 12:19:51.240 Thread 'MainThread': missing ScriptRunContext! This warning can be ignored when running in bare mode.\n",
      "2025-07-23 12:19:51.251 Thread 'MainThread': missing ScriptRunContext! This warning can be ignored when running in bare mode.\n",
      "2025-07-23 12:19:57.478 Thread 'MainThread': missing ScriptRunContext! This warning can be ignored when running in bare mode.\n",
      "2025-07-23 12:19:57.478 Thread 'MainThread': missing ScriptRunContext! This warning can be ignored when running in bare mode.\n",
      "2025-07-23 12:19:57.482 Thread 'MainThread': missing ScriptRunContext! This warning can be ignored when running in bare mode.\n",
      "2025-07-23 12:19:57.484 Thread 'MainThread': missing ScriptRunContext! This warning can be ignored when running in bare mode.\n",
      "2025-07-23 12:19:57.487 Thread 'MainThread': missing ScriptRunContext! This warning can be ignored when running in bare mode.\n",
      "2025-07-23 12:19:57.488 Thread 'MainThread': missing ScriptRunContext! This warning can be ignored when running in bare mode.\n",
      "2025-07-23 12:19:57.537 Thread 'MainThread': missing ScriptRunContext! This warning can be ignored when running in bare mode.\n",
      "2025-07-23 12:19:57.537 Thread 'MainThread': missing ScriptRunContext! This warning can be ignored when running in bare mode.\n",
      "2025-07-23 12:19:57.541 Thread 'MainThread': missing ScriptRunContext! This warning can be ignored when running in bare mode.\n",
      "2025-07-23 12:19:57.544 Thread 'MainThread': missing ScriptRunContext! This warning can be ignored when running in bare mode.\n",
      "2025-07-23 12:19:57.544 Thread 'MainThread': missing ScriptRunContext! This warning can be ignored when running in bare mode.\n",
      "2025-07-23 12:19:57.544 Thread 'MainThread': missing ScriptRunContext! This warning can be ignored when running in bare mode.\n",
      "2025-07-23 12:19:57.544 Thread 'MainThread': missing ScriptRunContext! This warning can be ignored when running in bare mode.\n",
      "2025-07-23 12:19:57.544 Thread 'MainThread': missing ScriptRunContext! This warning can be ignored when running in bare mode.\n",
      "2025-07-23 12:19:57.557 Thread 'MainThread': missing ScriptRunContext! This warning can be ignored when running in bare mode.\n",
      "2025-07-23 12:19:57.561 Thread 'MainThread': missing ScriptRunContext! This warning can be ignored when running in bare mode.\n",
      "2025-07-23 12:19:57.563 Session state does not function when running a script without `streamlit run`\n",
      "2025-07-23 12:19:57.567 Thread 'MainThread': missing ScriptRunContext! This warning can be ignored when running in bare mode.\n",
      "2025-07-23 12:19:57.573 Thread 'MainThread': missing ScriptRunContext! This warning can be ignored when running in bare mode.\n",
      "2025-07-23 12:19:57.575 Thread 'MainThread': missing ScriptRunContext! This warning can be ignored when running in bare mode.\n",
      "2025-07-23 12:19:57.745 Thread 'MainThread': missing ScriptRunContext! This warning can be ignored when running in bare mode.\n",
      "2025-07-23 12:19:57.755 Thread 'MainThread': missing ScriptRunContext! This warning can be ignored when running in bare mode.\n",
      "2025-07-23 12:19:57.758 Thread 'MainThread': missing ScriptRunContext! This warning can be ignored when running in bare mode.\n",
      "2025-07-23 12:19:57.759 Thread 'MainThread': missing ScriptRunContext! This warning can be ignored when running in bare mode.\n",
      "2025-07-23 12:19:57.762 Thread 'MainThread': missing ScriptRunContext! This warning can be ignored when running in bare mode.\n",
      "2025-07-23 12:19:57.763 Thread 'MainThread': missing ScriptRunContext! This warning can be ignored when running in bare mode.\n"
     ]
    }
   ],
   "source": [
    "\n",
    "# 딕셔너리 → 데이터프레임\n",
    "table = pd.DataFrame.from_dict(subway_dict, orient=\"index\")\n",
    "\n",
    "if 2015 in table.columns and 2025 in table.columns:\n",
    "    table[\"증감폭\"] = table[2025] - table[2015]\n",
    "    table = table.dropna(subset=[\"증감폭\"])\n",
    "\n",
    "    top_increase = table[\"증감폭\"].sort_values(ascending=False).head(10)\n",
    "    top_decrease = table[\"증감폭\"].sort_values().head(10)\n",
    "\n",
    "    st.subheader(\"유동인구 증가 Top 10\")\n",
    "    st.bar_chart(top_increase)\n",
    "\n",
    "    st.subheader(\"유동인구 감소 Top 10\")\n",
    "    st.bar_chart(top_decrease)\n",
    "\n",
    "    st.subheader(\"지하철역 선택하여 연도별 유동인구 보기\")\n",
    "    selected_station = st.selectbox(\"지하철역을 선택하세요\", table.index)\n",
    "\n",
    "    if selected_station:\n",
    "        st.line_chart(table.loc[selected_station].drop(\"증감폭\"))\n",
    "\n",
    "if __name__ == \"__main__\":\n",
    "    main()\n"
   ]
  },
  {
   "cell_type": "code",
   "execution_count": null,
   "id": "84c40aa7",
   "metadata": {},
   "outputs": [],
   "source": [
    "# 증가율 구하기\n",
    "\n",
    "table[\"증가율\"] = (table[\"증감폭\"]/table[2015])*100\n",
    "top_increase_rate = table[\"증가율\"].sort_values(ascending=False).head(10)\n",
    "\n",
    "st.subheader(\"2015~2024 유동인구 증가율\")\n",
    "st.bar_chart(top_increase_rate)\n"
   ]
  },
  {
   "cell_type": "code",
   "execution_count": null,
   "id": "7d2f1588",
   "metadata": {},
   "outputs": [],
   "source": [
    "st.subheader(\"2015~2024 유동인구 증가율\")\n",
    "st.bar_chart(top_increase_rate)"
   ]
  },
  {
   "cell_type": "code",
   "execution_count": 51,
   "id": "3c7cdbd6",
   "metadata": {},
   "outputs": [],
   "source": [
    "import pymysql\n",
    "import pandas as pd"
   ]
  },
  {
   "cell_type": "code",
   "execution_count": 52,
   "id": "9ea9d656",
   "metadata": {},
   "outputs": [],
   "source": [
    "conn = pymysql.connect(\n",
    "    host='localhost',\n",
    "    user = 'opgrs',\n",
    "    password='test1234',\n",
    "    db = 'mini_project',\n",
    "    charset = 'utf8mb4'\n",
    ")"
   ]
  },
  {
   "cell_type": "code",
   "execution_count": 53,
   "id": "1f724247",
   "metadata": {},
   "outputs": [],
   "source": [
    "years_data = list(range(2015,2025))\n",
    "years_data_in = []"
   ]
  },
  {
   "cell_type": "code",
   "execution_count": 56,
   "id": "51742bf5",
   "metadata": {},
   "outputs": [
    {
     "name": "stderr",
     "output_type": "stream",
     "text": [
      "C:\\Users\\opgrs\\AppData\\Local\\Temp\\ipykernel_27828\\3015939016.py:34: UserWarning: pandas only supports SQLAlchemy connectable (engine/connection) or database string URI or sqlite3 DBAPI2 connection. Other DBAPI2 objects are not tested. Please consider using SQLAlchemy.\n",
      "  df = pd.read_sql(query, conn)\n"
     ]
    }
   ],
   "source": [
    "for y in years_data:\n",
    "    table = f\"subway_{year}\"\n",
    "\n",
    "    query = f\"\"\"\n",
    "        SELECT\n",
    "            SUM(`04-05시 승차인원` + `04-05시 하차인원` +\n",
    "                   `05-06시 승차인원` + `05-06시 하차인원` +\n",
    "                   `06-07시 승차인원` + `06-07시 하차인원` +\n",
    "                   `07-08시 승차인원` + `07-08시 하차인원` +\n",
    "                   `08-09시 승차인원` + `08-09시 하차인원` +\n",
    "                   `09-10시 승차인원` + `09-10시 하차인원` +\n",
    "                   `10-11시 승차인원` + `10-11시 하차인원` +\n",
    "                   `11-12시 승차인원` + `11-12시 하차인원` +\n",
    "                   `12-13시 승차인원` + `12-13시 하차인원` +\n",
    "                   `13-14시 승차인원` + `13-14시 하차인원` +\n",
    "                   `14-15시 승차인원` + `14-15시 하차인원` +\n",
    "                   `15-16시 승차인원` + `15-16시 하차인원` +\n",
    "                   `16-17시 승차인원` + `16-17시 하차인원` +\n",
    "                   `17-18시 승차인원` + `17-18시 하차인원` +\n",
    "                   `18-19시 승차인원` + `18-19시 하차인원` +\n",
    "                   `19-20시 승차인원` + `19-20시 하차인원` +\n",
    "                   `20-21시 승차인원` + `20-21시 하차인원` +\n",
    "                   `21-22시 승차인원` + `21-22시 하차인원` +\n",
    "                   `22-23시 승차인원` + `22-23시 하차인원` +\n",
    "                   `23-24시 승차인원` + `23-24시 하차인원` +\n",
    "                   `00-01시 승차인원` + `00-01시 하차인원` +\n",
    "                   `01-02시 승차인원` + `01-02시 하차인원` +\n",
    "                   `02-03시 승차인원` + `02-03시 하차인원` +\n",
    "                   `03-04시 승차인원` + `03-04시 하차인원`)\n",
    "                   AS 총유동인구\n",
    "                   FROM subway_{year}\n",
    "            \"\"\"\n",
    "    \n",
    "    df = pd.read_sql(query, conn)\n",
    "    total = int(df.loc[0, '총유동인구'])\n",
    "    years_data_in.append({\"연도\": year, \"총유동인구\": total})\n",
    "\n",
    "conn.close()"
   ]
  },
  {
   "cell_type": "code",
   "execution_count": 57,
   "id": "970a22e8",
   "metadata": {},
   "outputs": [
    {
     "name": "stderr",
     "output_type": "stream",
     "text": [
      "2025-07-23 15:17:35.338 Thread 'MainThread': missing ScriptRunContext! This warning can be ignored when running in bare mode.\n",
      "2025-07-23 15:17:35.345 Thread 'MainThread': missing ScriptRunContext! This warning can be ignored when running in bare mode.\n",
      "2025-07-23 15:17:35.349 Thread 'MainThread': missing ScriptRunContext! This warning can be ignored when running in bare mode.\n",
      "2025-07-23 15:17:35.725 Thread 'MainThread': missing ScriptRunContext! This warning can be ignored when running in bare mode.\n",
      "2025-07-23 15:17:35.727 Thread 'MainThread': missing ScriptRunContext! This warning can be ignored when running in bare mode.\n",
      "2025-07-23 15:17:35.732 Thread 'MainThread': missing ScriptRunContext! This warning can be ignored when running in bare mode.\n"
     ]
    },
    {
     "data": {
      "text/plain": [
       "DeltaGenerator()"
      ]
     },
     "execution_count": 57,
     "metadata": {},
     "output_type": "execute_result"
    }
   ],
   "source": [
    "year_df = pd.DataFrame(years_data_in)\n",
    "\n",
    "st.subheader(\"연도별 유동인구\")\n",
    "st.line_chart(year_df.set_index(\"연도\"))"
   ]
  }
 ],
 "metadata": {
  "kernelspec": {
   "display_name": "mini_project",
   "language": "python",
   "name": "python3"
  },
  "language_info": {
   "codemirror_mode": {
    "name": "ipython",
    "version": 3
   },
   "file_extension": ".py",
   "mimetype": "text/x-python",
   "name": "python",
   "nbconvert_exporter": "python",
   "pygments_lexer": "ipython3",
   "version": "3.10.18"
  }
 },
 "nbformat": 4,
 "nbformat_minor": 5
}
