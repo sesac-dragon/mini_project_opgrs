{
 "cells": [
  {
   "cell_type": "code",
   "execution_count": 1,
   "id": "ef17da02",
   "metadata": {},
   "outputs": [],
   "source": [
    "from selenium import webdriver\n",
    "from selenium.webdriver.chrome.service import Service\n",
    "from webdriver_manager.chrome import ChromeDriverManager\n",
    "from selenium.webdriver.common.by import By\n",
    "import time\n"
   ]
  },
  {
   "cell_type": "code",
   "execution_count": 2,
   "id": "03726844",
   "metadata": {},
   "outputs": [],
   "source": [
    "driver = webdriver.Chrome(\n",
    "    service=Service(ChromeDriverManager().install()) )\n",
    "driver.get(\"https://asil.kr/asil/index.jsp\")\n",
    "time.sleep(5)\n"
   ]
  },
  {
   "cell_type": "code",
   "execution_count": null,
   "id": "d371d090",
   "metadata": {},
   "outputs": [],
   "source": [
    "import requests\n",
    "\n",
    "dong_code = \"1168010800\" \n",
    "\n",
    "url = f\"https://asil.kr/app/data/data_apt_list.jsp?dong={dong_code}&building=&household=50&order=0&order_type=0\"\n",
    "headers = {\n",
    "    \"User-Agent\": \"Mozilla/5.0\"\n",
    "}\n",
    "\n",
    "response = requests.get(url, headers=headers)\n",
    "apt_list = response.json()\n",
    "\n",
    "# 단지명과 seq 출력\n",
    "for apt in apt_list:\n",
    "    name = apt.get(\"name\")\n",
    "    seq = apt.get(\"seq\")  # 이게 complex_cd \n",
    "    print(f\" {name} → 단지코드: {seq}\")\n",
    "\n"
   ]
  },
  {
   "cell_type": "code",
   "execution_count": 5,
   "id": "2d7e1b51",
   "metadata": {},
   "outputs": [
    {
     "name": "stdout",
     "output_type": "stream",
     "text": [
      " N168(도시형)  | 단지코드(seq): 20417598\n",
      " 강남구청역SK허브블루 | 단지코드(seq): 2500050626\n",
      " 강남파라곤 | 단지코드(seq): 2500050556\n",
      " 거평타운 | 단지코드(seq): 2500050600\n",
      " 거평프리젠 | 단지코드(seq): 1266\n",
      " 경남논현 | 단지코드(seq): 1267\n",
      " 기린힐스 | 단지코드(seq): 20413307\n",
      " 논현e편한세상 | 단지코드(seq): 20011858\n",
      " 논현동대우아이빌 힐타운 | 단지코드(seq): 2500050560\n",
      " 논현동월드메르디앙 | 단지코드(seq): 20065401\n",
      " 논현베르빌 | 단지코드(seq): 1321\n",
      " 논현신동아파밀리에 | 단지코드(seq): 1271\n",
      " 논현아이파크 | 단지코드(seq): 20412000\n",
      " 논현아이파크 | 단지코드(seq): 2500096249\n",
      " 논현파라곤 | 단지코드(seq): 20064764\n",
      " 논현한화꿈에그린 | 단지코드(seq): 448509\n",
      " 동부센트레빌 | 단지코드(seq): 50464\n",
      " 동양파라곤 | 단지코드(seq): 53517\n",
      " 동현 | 단지코드(seq): 1283\n",
      " 동화 | 단지코드(seq): 20164611\n",
      " 두산위브1단지 | 단지코드(seq): 249480\n",
      " 두산위브2단지 | 단지코드(seq): 249481\n",
      " 루시아도산208 | 단지코드(seq): 20447061\n",
      " 마르세움 | 단지코드(seq): 2500050564\n",
      " 마일스디오빌 | 단지코드(seq): 249472\n",
      " 브라이튼N40(민간임대) | 단지코드(seq): 20437460\n",
      " 삼환 아르누보 3 | 단지코드(seq): 2500050620\n",
      " 상지카일룸M | 단지코드(seq): 2500106535\n",
      " 선정릉역모아엘가퍼스트홈 | 단지코드(seq): 20442245\n",
      " 세양에이팩스타워 | 단지코드(seq): 2500050570\n",
      " 쌍용 | 단지코드(seq): 1299\n",
      " 아스티논현 | 단지코드(seq): 2500106829\n",
      " 아크로힐스논현 | 단지코드(seq): 20312500\n",
      " 우민 | 단지코드(seq): 1324\n",
      " 운현 | 단지코드(seq): 2500091704\n",
      " 이안 논현 | 단지코드(seq): 2500050543\n",
      " 청학 | 단지코드(seq): 1304\n",
      " 펜트힐 루 논현 | 단지코드(seq): 2500097736\n",
      " 펜트힐루논현(도시형) | 단지코드(seq): 20428411\n",
      " 펜트힐캐스케이드 | 단지코드(seq): 20442921\n",
      " 학동역 이안 테라디움 | 단지코드(seq): 2500098882\n",
      " 학동역이안테라디움(민간임대,도시형) | 단지코드(seq): 20439358\n",
      " 한양수자인어반게이트 | 단지코드(seq): 20180656\n",
      " 한진로즈힐 | 단지코드(seq): 249475\n"
     ]
    }
   ],
   "source": [
    "import requests\n",
    "import json\n",
    "\n",
    "dong_code = \"1168010800\"  # 논현동\n",
    "\n",
    "url = f\"https://asil.kr/app/data/data_apt_list.jsp?dong={dong_code}&building=&household=50&order=0&order_type=0\"\n",
    "headers = {\n",
    "    \"User-Agent\": \"Mozilla/5.0\",\n",
    "    \"Referer\": \"https://asil.kr/\",\n",
    "    \"Accept\": \"application/json, text/javascript, */*; q=0.01\",\n",
    "    \"X-Requested-With\": \"XMLHttpRequest\"\n",
    "}\n",
    "\n",
    "response = requests.get(url, headers=headers)\n",
    "\n",
    "try:\n",
    "    \n",
    "    apt_list = json.loads(response.text)\n",
    "\n",
    "    for apt in apt_list:\n",
    "        print(f\" {apt['name']} | 단지코드(seq): {apt['seq']}\")\n",
    "\n",
    "except json.JSONDecodeError as e:\n",
    "    print(\"JSON 파싱 실패:\", e)\n",
    "    print(\"응답 본문:\", response.text[:500])\n"
   ]
  },
  {
   "cell_type": "code",
   "execution_count": 6,
   "id": "3abb7b7f",
   "metadata": {},
   "outputs": [
    {
     "name": "stdout",
     "output_type": "stream",
     "text": [
      "N168(도시형)  → https://asil.kr/app/price_detail_ver_3_9.jsp?os=pc&building=apt&apt=20417598&year=9999&deal=1\n",
      "강남구청역SK허브블루 → https://asil.kr/app/price_detail_ver_3_9.jsp?os=pc&building=apt&apt=2500050626&year=9999&deal=1\n",
      "강남파라곤 → https://asil.kr/app/price_detail_ver_3_9.jsp?os=pc&building=apt&apt=2500050556&year=9999&deal=1\n",
      "거평타운 → https://asil.kr/app/price_detail_ver_3_9.jsp?os=pc&building=apt&apt=2500050600&year=9999&deal=1\n",
      "거평프리젠 → https://asil.kr/app/price_detail_ver_3_9.jsp?os=pc&building=apt&apt=1266&year=9999&deal=1\n",
      "경남논현 → https://asil.kr/app/price_detail_ver_3_9.jsp?os=pc&building=apt&apt=1267&year=9999&deal=1\n",
      "기린힐스 → https://asil.kr/app/price_detail_ver_3_9.jsp?os=pc&building=apt&apt=20413307&year=9999&deal=1\n",
      "논현e편한세상 → https://asil.kr/app/price_detail_ver_3_9.jsp?os=pc&building=apt&apt=20011858&year=9999&deal=1\n",
      "논현동대우아이빌 힐타운 → https://asil.kr/app/price_detail_ver_3_9.jsp?os=pc&building=apt&apt=2500050560&year=9999&deal=1\n",
      "논현동월드메르디앙 → https://asil.kr/app/price_detail_ver_3_9.jsp?os=pc&building=apt&apt=20065401&year=9999&deal=1\n",
      "논현베르빌 → https://asil.kr/app/price_detail_ver_3_9.jsp?os=pc&building=apt&apt=1321&year=9999&deal=1\n",
      "논현신동아파밀리에 → https://asil.kr/app/price_detail_ver_3_9.jsp?os=pc&building=apt&apt=1271&year=9999&deal=1\n",
      "논현아이파크 → https://asil.kr/app/price_detail_ver_3_9.jsp?os=pc&building=apt&apt=20412000&year=9999&deal=1\n",
      "논현아이파크 → https://asil.kr/app/price_detail_ver_3_9.jsp?os=pc&building=apt&apt=2500096249&year=9999&deal=1\n",
      "논현파라곤 → https://asil.kr/app/price_detail_ver_3_9.jsp?os=pc&building=apt&apt=20064764&year=9999&deal=1\n",
      "논현한화꿈에그린 → https://asil.kr/app/price_detail_ver_3_9.jsp?os=pc&building=apt&apt=448509&year=9999&deal=1\n",
      "동부센트레빌 → https://asil.kr/app/price_detail_ver_3_9.jsp?os=pc&building=apt&apt=50464&year=9999&deal=1\n",
      "동양파라곤 → https://asil.kr/app/price_detail_ver_3_9.jsp?os=pc&building=apt&apt=53517&year=9999&deal=1\n",
      "동현 → https://asil.kr/app/price_detail_ver_3_9.jsp?os=pc&building=apt&apt=1283&year=9999&deal=1\n",
      "동화 → https://asil.kr/app/price_detail_ver_3_9.jsp?os=pc&building=apt&apt=20164611&year=9999&deal=1\n",
      "두산위브1단지 → https://asil.kr/app/price_detail_ver_3_9.jsp?os=pc&building=apt&apt=249480&year=9999&deal=1\n",
      "두산위브2단지 → https://asil.kr/app/price_detail_ver_3_9.jsp?os=pc&building=apt&apt=249481&year=9999&deal=1\n",
      "루시아도산208 → https://asil.kr/app/price_detail_ver_3_9.jsp?os=pc&building=apt&apt=20447061&year=9999&deal=1\n",
      "마르세움 → https://asil.kr/app/price_detail_ver_3_9.jsp?os=pc&building=apt&apt=2500050564&year=9999&deal=1\n",
      "마일스디오빌 → https://asil.kr/app/price_detail_ver_3_9.jsp?os=pc&building=apt&apt=249472&year=9999&deal=1\n",
      "브라이튼N40(민간임대) → https://asil.kr/app/price_detail_ver_3_9.jsp?os=pc&building=apt&apt=20437460&year=9999&deal=1\n",
      "삼환 아르누보 3 → https://asil.kr/app/price_detail_ver_3_9.jsp?os=pc&building=apt&apt=2500050620&year=9999&deal=1\n",
      "상지카일룸M → https://asil.kr/app/price_detail_ver_3_9.jsp?os=pc&building=apt&apt=2500106535&year=9999&deal=1\n",
      "선정릉역모아엘가퍼스트홈 → https://asil.kr/app/price_detail_ver_3_9.jsp?os=pc&building=apt&apt=20442245&year=9999&deal=1\n",
      "세양에이팩스타워 → https://asil.kr/app/price_detail_ver_3_9.jsp?os=pc&building=apt&apt=2500050570&year=9999&deal=1\n",
      "쌍용 → https://asil.kr/app/price_detail_ver_3_9.jsp?os=pc&building=apt&apt=1299&year=9999&deal=1\n",
      "아스티논현 → https://asil.kr/app/price_detail_ver_3_9.jsp?os=pc&building=apt&apt=2500106829&year=9999&deal=1\n",
      "아크로힐스논현 → https://asil.kr/app/price_detail_ver_3_9.jsp?os=pc&building=apt&apt=20312500&year=9999&deal=1\n",
      "우민 → https://asil.kr/app/price_detail_ver_3_9.jsp?os=pc&building=apt&apt=1324&year=9999&deal=1\n",
      "운현 → https://asil.kr/app/price_detail_ver_3_9.jsp?os=pc&building=apt&apt=2500091704&year=9999&deal=1\n",
      "이안 논현 → https://asil.kr/app/price_detail_ver_3_9.jsp?os=pc&building=apt&apt=2500050543&year=9999&deal=1\n",
      "청학 → https://asil.kr/app/price_detail_ver_3_9.jsp?os=pc&building=apt&apt=1304&year=9999&deal=1\n",
      "펜트힐 루 논현 → https://asil.kr/app/price_detail_ver_3_9.jsp?os=pc&building=apt&apt=2500097736&year=9999&deal=1\n",
      "펜트힐루논현(도시형) → https://asil.kr/app/price_detail_ver_3_9.jsp?os=pc&building=apt&apt=20428411&year=9999&deal=1\n",
      "펜트힐캐스케이드 → https://asil.kr/app/price_detail_ver_3_9.jsp?os=pc&building=apt&apt=20442921&year=9999&deal=1\n",
      "학동역 이안 테라디움 → https://asil.kr/app/price_detail_ver_3_9.jsp?os=pc&building=apt&apt=2500098882&year=9999&deal=1\n",
      "학동역이안테라디움(민간임대,도시형) → https://asil.kr/app/price_detail_ver_3_9.jsp?os=pc&building=apt&apt=20439358&year=9999&deal=1\n",
      "한양수자인어반게이트 → https://asil.kr/app/price_detail_ver_3_9.jsp?os=pc&building=apt&apt=20180656&year=9999&deal=1\n",
      "한진로즈힐 → https://asil.kr/app/price_detail_ver_3_9.jsp?os=pc&building=apt&apt=249475&year=9999&deal=1\n"
     ]
    }
   ],
   "source": [
    "base_url = \"https://asil.kr/app/price_detail_ver_3_9.jsp\"\n",
    "for apt in apt_list:\n",
    "    apt_code = apt[\"seq\"]\n",
    "    full_url = f\"{base_url}?os=pc&building=apt&apt={apt_code}&year=9999&deal=1\"\n",
    "    print(f\"{apt['name']} → {full_url}\")\n",
    "\n"
   ]
  },
  {
   "cell_type": "code",
   "execution_count": 7,
   "id": "e1b8fbef",
   "metadata": {},
   "outputs": [
    {
     "name": "stdout",
     "output_type": "stream",
     "text": [
      "\n"
     ]
    }
   ],
   "source": [
    "import requests\n",
    "\n",
    "url = \"https://asil.kr/app/data/data_apt_list.jsp?dong=1168010800\"\n",
    "response = requests.get(url)  \n",
    "print(response.text)"
   ]
  },
  {
   "cell_type": "code",
   "execution_count": 3,
   "id": "ca2069b7",
   "metadata": {},
   "outputs": [],
   "source": [
    "import requests\n",
    "import json\n",
    "from bs4 import BeautifulSoup\n",
    "import time\n",
    "import pandas as pd\n"
   ]
  },
  {
   "cell_type": "code",
   "execution_count": 6,
   "id": "b9cb51de",
   "metadata": {},
   "outputs": [],
   "source": [
    "dong_code = \"1168010800\""
   ]
  },
  {
   "cell_type": "code",
   "execution_count": 8,
   "id": "f94decd2",
   "metadata": {},
   "outputs": [],
   "source": [
    "apt_list_url = f\"https://asil.kr/app/data/data_apt_list.jsp?dong={dong_code}&building=&household=50&order=0&order_type=0\"\n",
    "headers = {\n",
    "    \"User-Agent\": \"Mozilla/5.0\", \n",
    "    \"Referer\": \"https://asil.kr/\",\n",
    "    \"Accept\": \"application/json\",\n",
    "    \"X-Requested-With\": \"XMLHttpRequest\"\n",
    "}\n",
    "\n",
    "response = requests.get(apt_list_url, headers=headers)\n",
    "apt_data = json.loads(response.text)\n",
    "\n",
    "result_list = []\n",
    "\n",
    "for apt in apt_data:\n",
    "    apt_name = apt[\"name\"].strip()\n",
    "    apt_code = apt[\"seq\"]"
   ]
  },
  {
   "cell_type": "code",
   "execution_count": 3,
   "id": "7a244ba8",
   "metadata": {},
   "outputs": [
    {
     "name": "stdout",
     "output_type": "stream",
     "text": [
      "          거래일  층수                        가격                       전월세\n",
      "0  2024.03.16   7  GJqGHxF0mVUK2hA924nZsA==  THTMgvdaJlW9h5Imq76EIA==\n",
      "1  2024.02.26   8  tqcgRO9LaHZuImSkhEB2Lg==  7tY9AJG+CgPO1o/4/Y9wZQ==\n",
      "2  2024.01.08  10  jBkQwDDxQqLmpl4GIo4MIQ==  56tpP5Tu1zPm/DRbJDHXdA==\n",
      "3  2023.10.27   5  jBkQwDDxQqLmpl4GIo4MIQ==  56tpP5Tu1zPm/DRbJDHXdA==\n",
      "4  2023.08.22   5  jBkQwDDxQqLmpl4GIo4MIQ==  56tpP5Tu1zPm/DRbJDHXdA==\n"
     ]
    }
   ],
   "source": [
    "import requests\n",
    "import pandas as pd\n",
    "\n",
    "seq = \"2500050626\"\n",
    "url = (f\"https://asil.kr/app/data/apt_price_m2_mjw_newver_6.jsp?\"\n",
    "       f\"sido=11&dealmode=123&building=officetel&seq={seq}\"\n",
    "       f\"&m2=34&py=19&py_type=&isPyQuery=true&year=9999&start=0&count=10&u=0&order=\")\n",
    "\n",
    "headers = {\n",
    "    \"User-Agent\": \"Mozilla/5.0\",\n",
    "    \"Referer\": \"https://asil.kr/\",\n",
    "    \"X-Requested-With\": \"XMLHttpRequest\",\n",
    "    \"Accept\": \"application/json\"\n",
    "}\n",
    "\n",
    "response = requests.get(url, headers=headers)\n",
    "\n",
    "try:\n",
    "    new_data = response.json()\n",
    "except ValueError:\n",
    "    print(\"JSON 디코딩 실패. 응답 내용:\")\n",
    "    print(response.text)\n",
    "    exit()\n",
    "\n",
    "rows = []\n",
    "\n",
    "if new_data and \"val\" in new_data[0]:\n",
    "    for monthly in new_data[0][\"val\"]:\n",
    "        yyyymm = monthly[\"yyyymm\"]\n",
    "        for daily in monthly[\"val\"]:\n",
    "            day = daily[\"day\"]\n",
    "            for deal in daily[\"val\"]:\n",
    "                rows.append({\n",
    "                    \"거래일\": f\"{yyyymm[:4]}.{yyyymm[4:]}.{day:02}\",\n",
    "                    \"층수\": deal.get(\"floor\"),\n",
    "                    \"가격\": deal.get(\"money\"),\n",
    "                    \"전월세\": deal.get(\"rent\")\n",
    "                })\n",
    "else:\n",
    "    print(\"빈 데이터 혹은 예상 구조와 다름\")\n",
    "    exit()\n",
    "\n",
    "df = pd.DataFrame(rows)\n",
    "print(df.head())\n",
    "\n"
   ]
  },
  {
   "cell_type": "code",
   "execution_count": 19,
   "id": "7dda1d6d",
   "metadata": {},
   "outputs": [
    {
     "name": "stdout",
     "output_type": "stream",
     "text": [
      "          거래일  층수                        가격                       전월세\n",
      "0  2024.03.16   7  GJqGHxF0mVUK2hA924nZsA==  THTMgvdaJlW9h5Imq76EIA==\n",
      "1  2024.02.26   8  tqcgRO9LaHZuImSkhEB2Lg==  7tY9AJG+CgPO1o/4/Y9wZQ==\n",
      "2  2024.01.08  10  jBkQwDDxQqLmpl4GIo4MIQ==  56tpP5Tu1zPm/DRbJDHXdA==\n",
      "3  2023.10.27   5  jBkQwDDxQqLmpl4GIo4MIQ==  56tpP5Tu1zPm/DRbJDHXdA==\n",
      "4  2023.08.22   5  jBkQwDDxQqLmpl4GIo4MIQ==  56tpP5Tu1zPm/DRbJDHXdA==\n",
      "5  2023.01.17   6  Cdl/ZJBNCWh0O96imakFYQ==  56tpP5Tu1zPm/DRbJDHXdA==\n",
      "6  2022.09.13  11  a7qBwRYHWVPiU88xY+9fCw==  CS5lcRY/NyWCt64xtTvdMQ==\n",
      "7  2022.07.12   9  Fpi+grvdio6G1KyS9HYAtw==  xQKSwfb+x4pZ8cnlemIQng==\n"
     ]
    }
   ],
   "source": [
    "print(df)"
   ]
  },
  {
   "cell_type": "code",
   "execution_count": 19,
   "id": "50b33c76",
   "metadata": {},
   "outputs": [
    {
     "name": "stdout",
     "output_type": "stream",
     "text": [
      "46\n"
     ]
    }
   ],
   "source": [
    "total_data = 0\n",
    "for monthly in new_data[0][\"val\"]:\n",
    "    \n",
    "    total_data += len(monthly[\"val\"])\n",
    "print(total_data)"
   ]
  },
  {
   "cell_type": "code",
   "execution_count": null,
   "id": "cedcb7d1",
   "metadata": {},
   "outputs": [],
   "source": [
    "%pip install pycrypto"
   ]
  },
  {
   "cell_type": "code",
   "execution_count": 7,
   "id": "094d1241",
   "metadata": {},
   "outputs": [
    {
     "ename": "ModuleNotFoundError",
     "evalue": "No module named 'Crypto'",
     "output_type": "error",
     "traceback": [
      "\u001b[1;31m---------------------------------------------------------------------------\u001b[0m",
      "\u001b[1;31mModuleNotFoundError\u001b[0m                       Traceback (most recent call last)",
      "Cell \u001b[1;32mIn[7], line 2\u001b[0m\n\u001b[0;32m      1\u001b[0m \u001b[38;5;66;03m##복호화 함수\u001b[39;00m\n\u001b[1;32m----> 2\u001b[0m \u001b[38;5;28;01mfrom\u001b[39;00m\u001b[38;5;250m \u001b[39m\u001b[38;5;21;01mCrypto\u001b[39;00m\u001b[38;5;21;01m.\u001b[39;00m\u001b[38;5;21;01mCipher\u001b[39;00m\u001b[38;5;250m \u001b[39m\u001b[38;5;28;01mimport\u001b[39;00m AES\n\u001b[0;32m      3\u001b[0m \u001b[38;5;28;01mimport\u001b[39;00m\u001b[38;5;250m \u001b[39m\u001b[38;5;21;01mbase64\u001b[39;00m\n\u001b[0;32m      4\u001b[0m \u001b[38;5;28;01mdef\u001b[39;00m\u001b[38;5;250m \u001b[39m\u001b[38;5;21madjust_key\u001b[39m(key_str):\n",
      "\u001b[1;31mModuleNotFoundError\u001b[0m: No module named 'Crypto'"
     ]
    }
   ],
   "source": [
    "##복호화 함수\n",
    "from Crypto.Cipher import AES\n",
    "import base64\n",
    "def adjust_key(key_str):\n",
    "    key_bytes = key_str.encode('utf-8')\n",
    "    length = len(key_bytes)\n",
    "    if length < 16:\n",
    "        return key_bytes.ljust(16, b'\\0')\n",
    "    elif 16 < length < 24:\n",
    "        return key_bytes.ljust(24, b'\\0')\n",
    "    elif 24 < length < 32:\n",
    "        return key_bytes.ljust(32, b'\\0')\n",
    "    elif length >= 32:\n",
    "        return key_bytes[:32]\n",
    "    else:\n",
    "        return key_bytes\n",
    "def decrypt_asil(encrypted_b64, key_seed):\n",
    "    key = adjust_key(key_seed)\n",
    "    cipher = AES.new(key, AES.MODE_ECB)\n",
    "    encrypted_bytes = base64.b64decode(encrypted_b64)\n",
    "    decrypted_bytes = cipher.decrypt(encrypted_bytes)\n",
    "    # PKCS7 패딩 제거\n",
    "    pad_len = decrypted_bytes[-1]\n",
    "    decrypted_bytes = decrypted_bytes[:-pad_len]\n",
    "    return decrypted_bytes.decode('utf-8')"
   ]
  },
  {
   "cell_type": "code",
   "execution_count": 9,
   "id": "34d917ab",
   "metadata": {},
   "outputs": [
    {
     "data": {
      "text/plain": [
       "200"
      ]
     },
     "execution_count": 9,
     "metadata": {},
     "output_type": "execute_result"
    }
   ],
   "source": [
    "import requests\n",
    "from bs4 import BeautifulSoup\n",
    "response = requests.get('https://asil.kr/app/data/data_apt_list.jsp?dong=1168010800&building=&household=50&order=0&order_type=0')\n",
    "response.status_code"
   ]
  },
  {
   "cell_type": "code",
   "execution_count": 10,
   "id": "2e64ecd4",
   "metadata": {},
   "outputs": [
    {
     "data": {
      "text/plain": []
     },
     "execution_count": 10,
     "metadata": {},
     "output_type": "execute_result"
    }
   ],
   "source": [
    "soup = BeautifulSoup(response.text,'html.parser')\n",
    "soup"
   ]
  },
  {
   "cell_type": "code",
   "execution_count": 20,
   "id": "e9882d07",
   "metadata": {},
   "outputs": [],
   "source": [
    "import requests"
   ]
  },
  {
   "cell_type": "code",
   "execution_count": null,
   "id": "d41c2de4",
   "metadata": {},
   "outputs": [],
   "source": [
    "url = "
   ]
  },
  {
   "cell_type": "code",
   "execution_count": null,
   "id": "82989f29",
   "metadata": {},
   "outputs": [
    {
     "name": "stdout",
     "output_type": "stream",
     "text": [
      "{'data': [{'dong': '101'}, {'dong': '102'}], 'v': '1'}\n"
     ]
    }
   ],
   "source": [
    "import requests\n",
    "\n",
    "url = \"https://asil.kr/app/data/data_apt_dong.jsp\"\n",
    "\n",
    "headers = {\n",
    "    \"User-Agent\": \"Mozilla/5.0\",\n",
    "    \"Referer\": \"https://asil.kr/\",\n",
    "    \"X-Requested-With\": \"XMLHttpRequest\",\n",
    "    \"Accept\": \"application/json\"\n",
    "}\n",
    "\n",
    "response = requests.get(url,, headers=headers)\n",
    "\n",
    "\n",
    "data = response.json()\n",
    "print(data)\n",
    "\n"
   ]
  },
  {
   "cell_type": "code",
   "execution_count": null,
   "id": "a85f571a",
   "metadata": {},
   "outputs": [],
   "source": [
    "https://asil.kr/app/data/data_apt_list.jsp?dong=1168010800&building=&household=50&order=0&order_type=0\n"
   ]
  },
  {
   "cell_type": "code",
   "execution_count": null,
   "id": "ff6fac9f",
   "metadata": {},
   "outputs": [
    {
     "name": "stdout",
     "output_type": "stream",
     "text": [
      "['755369533979302249475']\n"
     ]
    }
   ],
   "source": [
    "import requests\n",
    "import re\n",
    "\n",
    "# apt_info.jsp\n",
    "url = \"https://asil.kr/app/apt_info.jsp?os=pc&apt=249475&building=apt\"\n",
    "headers = {\n",
    "    \"User-Agent\": \"Mozilla/5.0\",\n",
    "    \"Referer\": \"https://asil.kr/\",\n",
    "}\n",
    "response = requests.get(url, headers=headers)\n",
    "\n",
    "# HTML 본문\n",
    "html = response.text\n",
    "\n",
    "# 정규표현식으로 getKey(\"숫자\")에서 숫자만 문자열로 추출\n",
    "keys = re.findall(r'getKey\\(\"(\\d+)\"\\)', html)\n",
    "\n",
    "# 결과 확인\n",
    "print(keys) \n"
   ]
  },
  {
   "cell_type": "code",
   "execution_count": 28,
   "id": "6feb1ad9",
   "metadata": {},
   "outputs": [],
   "source": [
    "import requests\n",
    "import re\n",
    "\n",
    "url = 'https://asil.kr/app/apt_info.jsp?os=pc&apt=249475&building=apt'\n",
    "headers = {\n",
    "    \"User-Agent\": \"Mozilla/5.0\",\n",
    "    \"Referer\": \"https://asil.kr/\",\n",
    "}\n",
    "response = requests.get(url,headers=headers)\n",
    "\n",
    "html = response.text\n",
    "\n",
    "key = re.findall\n"
   ]
  },
  {
   "cell_type": "code",
   "execution_count": 30,
   "id": "9ad4414e",
   "metadata": {},
   "outputs": [
    {
     "name": "stdout",
     "output_type": "stream",
     "text": [
      "Collecting pycryptodome\n",
      "  Downloading pycryptodome-3.23.0-cp37-abi3-win_amd64.whl.metadata (3.5 kB)\n",
      "Downloading pycryptodome-3.23.0-cp37-abi3-win_amd64.whl (1.8 MB)\n",
      "   ---------------------------------------- 0.0/1.8 MB ? eta -:--:--\n",
      "   ---------------------------------------- 0.0/1.8 MB ? eta -:--:--\n",
      "   ----------------- ---------------------- 0.8/1.8 MB 6.7 MB/s eta 0:00:01\n",
      "   ---------------------------------------- 1.8/1.8 MB 5.2 MB/s eta 0:00:00\n",
      "Installing collected packages: pycryptodome\n",
      "Successfully installed pycryptodome-3.23.0\n",
      "Note: you may need to restart the kernel to use updated packages.\n"
     ]
    }
   ],
   "source": [
    "%pip install pycryptodome"
   ]
  },
  {
   "cell_type": "code",
   "execution_count": 38,
   "id": "4202d896",
   "metadata": {},
   "outputs": [],
   "source": [
    "import base64\n",
    "from Crypto.Cipher import AES\n",
    "from Crypto.Util.Padding import unpad\n",
    "\n",
    "\n",
    "\n",
    "def decrypt(encrypted_text, secret):\n",
    "    \"\"\"\n",
    "    AES ECB 모드로 암호화된 텍스트를 복호화합니다.\n",
    "    \n",
    "    Args:\n",
    "        encrypted_text (str): Base64로 인코딩된 암호화된 텍스트\n",
    "    \n",
    "    Returns:\n",
    "        str: 복호화된 평문 텍스트\n",
    "    \"\"\"\n",
    "    # Base64 디코딩\n",
    "    encrypted_bytes = base64.b64decode(encrypted_text)\n",
    "    \n",
    "    # 키 생성\n",
    "    key = get_key(secret)\n",
    "    \n",
    "    # AES 복호화 객체 생성 (ECB 모드)\n",
    "    cipher = AES.new(key, AES.MODE_ECB)\n",
    "    \n",
    "    # 복호화\n",
    "    decrypted_bytes = cipher.decrypt(encrypted_bytes)\n",
    "    \n",
    "    # PKCS7 패딩 제거\n",
    "    unpadded_bytes = unpad(decrypted_bytes, AES.block_size)\n",
    "    \n",
    "    # UTF-8 문자열로 변환\n",
    "    return unpadded_bytes.decode('utf-8')\n",
    "\n",
    "def get_key(secret):\n",
    "    \"\"\"\n",
    "    비밀 문자열을 AES 키로 변환합니다.\n",
    "    키 길이에 따라 적절한 크기로 조정합니다.\n",
    "    \n",
    "    Args:\n",
    "        secret (str): 비밀 문자열\n",
    "    \n",
    "    Returns:\n",
    "        bytes: AES 키 (16, 24, 또는 32 바이트)\n",
    "    \"\"\"\n",
    "    # 문자열을 UTF-8 바이트로 변환\n",
    "    key_bytes = secret.encode('utf-8')\n",
    "    length = len(key_bytes)\n",
    "    \n",
    "    # 키 길이에 따라 조정\n",
    "    if length < 16:\n",
    "        # 16바이트보다 작으면 16바이트로 패딩\n",
    "        adjusted_key = key_bytes[:16].ljust(16, b'\\x00')\n",
    "    elif length > 16 and length < 24:\n",
    "        # 16바이트보다 크고 24바이트보다 작으면 24바이트로 조정\n",
    "        adjusted_key = key_bytes[:24].ljust(24, b'\\x00')\n",
    "    elif length > 24 and length < 32:\n",
    "        # 24바이트보다 크고 32바이트보다 작으면 32바이트로 조정\n",
    "        adjusted_key = key_bytes[:32].ljust(32, b'\\x00')\n",
    "    elif length >= 32:\n",
    "        # 32바이트 이상이면 32바이트로 잘라내기\n",
    "        adjusted_key = key_bytes[:32]\n",
    "    else:\n",
    "        # 정확히 16바이트면 그대로 사용\n",
    "        adjusted_key = key_bytes\n",
    "    \n",
    "    return adjusted_key\n",
    "\n"
   ]
  },
  {
   "cell_type": "code",
   "execution_count": 39,
   "id": "a3a56731",
   "metadata": {},
   "outputs": [
    {
     "ename": "ValueError",
     "evalue": "Padding is incorrect.",
     "output_type": "error",
     "traceback": [
      "\u001b[1;31m---------------------------------------------------------------------------\u001b[0m",
      "\u001b[1;31mValueError\u001b[0m                                Traceback (most recent call last)",
      "Cell \u001b[1;32mIn[39], line 1\u001b[0m\n\u001b[1;32m----> 1\u001b[0m decrypted \u001b[38;5;241m=\u001b[39m \u001b[43mdecrypt\u001b[49m\u001b[43m(\u001b[49m\u001b[38;5;124;43m'\u001b[39;49m\u001b[38;5;124;43mGJqGHxF0mVUK2hA924nZsA==\u001b[39;49m\u001b[38;5;124;43m'\u001b[39;49m\u001b[43m,\u001b[49m\u001b[43m \u001b[49m\u001b[38;5;124;43m'\u001b[39;49m\u001b[38;5;124;43m755369533979302249475\u001b[39;49m\u001b[38;5;124;43m'\u001b[39;49m\u001b[43m)\u001b[49m\n\u001b[0;32m      2\u001b[0m \u001b[38;5;28mprint\u001b[39m(decrypted)\n",
      "Cell \u001b[1;32mIn[38], line 30\u001b[0m, in \u001b[0;36mdecrypt\u001b[1;34m(encrypted_text, secret)\u001b[0m\n\u001b[0;32m     27\u001b[0m decrypted_bytes \u001b[38;5;241m=\u001b[39m cipher\u001b[38;5;241m.\u001b[39mdecrypt(encrypted_bytes)\n\u001b[0;32m     29\u001b[0m \u001b[38;5;66;03m# PKCS7 패딩 제거\u001b[39;00m\n\u001b[1;32m---> 30\u001b[0m unpadded_bytes \u001b[38;5;241m=\u001b[39m \u001b[43munpad\u001b[49m\u001b[43m(\u001b[49m\u001b[43mdecrypted_bytes\u001b[49m\u001b[43m,\u001b[49m\u001b[43m \u001b[49m\u001b[43mAES\u001b[49m\u001b[38;5;241;43m.\u001b[39;49m\u001b[43mblock_size\u001b[49m\u001b[43m)\u001b[49m\n\u001b[0;32m     32\u001b[0m \u001b[38;5;66;03m# UTF-8 문자열로 변환\u001b[39;00m\n\u001b[0;32m     33\u001b[0m \u001b[38;5;28;01mreturn\u001b[39;00m unpadded_bytes\u001b[38;5;241m.\u001b[39mdecode(\u001b[38;5;124m'\u001b[39m\u001b[38;5;124mutf-8\u001b[39m\u001b[38;5;124m'\u001b[39m)\n",
      "File \u001b[1;32mc:\\Users\\opgrs\\anaconda3\\envs\\mini_project\\lib\\site-packages\\Crypto\\Util\\Padding.py:98\u001b[0m, in \u001b[0;36munpad\u001b[1;34m(padded_data, block_size, style)\u001b[0m\n\u001b[0;32m     95\u001b[0m padding_len \u001b[38;5;241m=\u001b[39m bord(padded_data[\u001b[38;5;241m-\u001b[39m\u001b[38;5;241m1\u001b[39m])\n\u001b[0;32m     97\u001b[0m \u001b[38;5;28;01mif\u001b[39;00m padding_len \u001b[38;5;241m<\u001b[39m \u001b[38;5;241m1\u001b[39m \u001b[38;5;129;01mor\u001b[39;00m padding_len \u001b[38;5;241m>\u001b[39m \u001b[38;5;28mmin\u001b[39m(block_size, pdata_len):\n\u001b[1;32m---> 98\u001b[0m     \u001b[38;5;28;01mraise\u001b[39;00m \u001b[38;5;167;01mValueError\u001b[39;00m(\u001b[38;5;124m\"\u001b[39m\u001b[38;5;124mPadding is incorrect.\u001b[39m\u001b[38;5;124m\"\u001b[39m)\n\u001b[0;32m    100\u001b[0m \u001b[38;5;28;01mif\u001b[39;00m style \u001b[38;5;241m==\u001b[39m \u001b[38;5;124m'\u001b[39m\u001b[38;5;124mpkcs7\u001b[39m\u001b[38;5;124m'\u001b[39m:\n\u001b[0;32m    101\u001b[0m     \u001b[38;5;28;01mif\u001b[39;00m padded_data[\u001b[38;5;241m-\u001b[39mpadding_len:] \u001b[38;5;241m!=\u001b[39m bchr(padding_len)\u001b[38;5;241m*\u001b[39mpadding_len:\n",
      "\u001b[1;31mValueError\u001b[0m: Padding is incorrect."
     ]
    }
   ],
   "source": [
    "decrypted = decrypt('GJqGHxF0mVUK2hA924nZsA==', '755369533979302249475')\n",
    "print(decrypted)"
   ]
  },
  {
   "cell_type": "code",
   "execution_count": 40,
   "id": "6e8f9913",
   "metadata": {},
   "outputs": [
    {
     "ename": "NameError",
     "evalue": "name 'cipher' is not defined",
     "output_type": "error",
     "traceback": [
      "\u001b[1;31m---------------------------------------------------------------------------\u001b[0m",
      "\u001b[1;31mNameError\u001b[0m                                 Traceback (most recent call last)",
      "Cell \u001b[1;32mIn[40], line 1\u001b[0m\n\u001b[1;32m----> 1\u001b[0m decrypted_bytes \u001b[38;5;241m=\u001b[39m \u001b[43mcipher\u001b[49m\u001b[38;5;241m.\u001b[39mdecrypt(encrypted_bytes)\n\u001b[0;32m      2\u001b[0m \u001b[38;5;28mprint\u001b[39m(\u001b[38;5;124m\"\u001b[39m\u001b[38;5;124mDecrypted bytes:\u001b[39m\u001b[38;5;124m\"\u001b[39m, decrypted_bytes)  \u001b[38;5;66;03m# 확인용\u001b[39;00m\n\u001b[0;32m      3\u001b[0m unpadded_bytes \u001b[38;5;241m=\u001b[39m unpad(decrypted_bytes, AES\u001b[38;5;241m.\u001b[39mblock_size)\n",
      "\u001b[1;31mNameError\u001b[0m: name 'cipher' is not defined"
     ]
    }
   ],
   "source": [
    "decrypted_bytes = cipher.decrypt(encrypted_bytes)\n",
    "print(\"Decrypted bytes:\", decrypted_bytes)  # 확인용\n",
    "unpadded_bytes = unpad(decrypted_bytes, AES.block_size)\n"
   ]
  },
  {
   "cell_type": "code",
   "execution_count": null,
   "id": "884e0740",
   "metadata": {},
   "outputs": [
    {
     "name": "stdout",
     "output_type": "stream",
     "text": [
      "Decrypted bytes: b'?\\xcc\\x06\\xf1A\\x01X\\xe6\\xfd=S]3\\xb1\\x88I'\n",
      "복호화 실패: Padding is incorrect.\n"
     ]
    }
   ],
   "source": [
    "import base64\n",
    "from Crypto.Cipher import AES\n",
    "from Crypto.Util.Padding import unpad\n",
    "\n",
    "def get_key(secret):\n",
    "    key_bytes = secret.encode('utf-8')\n",
    "    length = len(key_bytes)\n",
    "    if length < 16:\n",
    "        return key_bytes.ljust(16, b'\\x00')\n",
    "    elif 16 < length < 24:\n",
    "        return key_bytes.ljust(24, b'\\x00')\n",
    "    elif 24 < length < 32:\n",
    "        return key_bytes.ljust(32, b'\\x00')\n",
    "    elif length >= 32:\n",
    "        return key_bytes[:32]\n",
    "    return key_bytes\n",
    "\n",
    "def decrypt(encrypted_text, secret):\n",
    "    encrypted_bytes = base64.b64decode(encrypted_text)\n",
    "    key = get_key(secret)\n",
    "    \n",
    "    cipher = AES.new(key, AES.MODE_ECB)\n",
    "    \n",
    "    decrypted_bytes = cipher.decrypt(encrypted_bytes)\n",
    "    print(\"Decrypted bytes:\", decrypted_bytes)  \n",
    "    \n",
    "    unpadded_bytes = unpad(decrypted_bytes, AES.block_size)\n",
    "    \n",
    "    return unpadded_bytes.decode('utf-8')\n",
    "\n",
    "# 테스트\n",
    "encrypted_text = \"GJqGHxF0mVUK2hA924nZsA==\"\n",
    "secret = \"755369533979302249475\"\n",
    "\n",
    "try:\n",
    "    decrypted = decrypt(encrypted_text, secret)\n",
    "    print(\"복호화 결과:\", decrypted)\n",
    "except Exception as e:\n",
    "    print(\"복호화 실패:\", e)\n"
   ]
  },
  {
   "cell_type": "code",
   "execution_count": 43,
   "id": "aa3c45cd",
   "metadata": {},
   "outputs": [
    {
     "name": "stdout",
     "output_type": "stream",
     "text": [
      "          거래일  층수                        가격                       전월세\n",
      "0  2024.03.16   7  GJqGHxF0mVUK2hA924nZsA==  THTMgvdaJlW9h5Imq76EIA==\n",
      "1  2024.02.26   8  tqcgRO9LaHZuImSkhEB2Lg==  7tY9AJG+CgPO1o/4/Y9wZQ==\n",
      "2  2024.01.08  10  jBkQwDDxQqLmpl4GIo4MIQ==  56tpP5Tu1zPm/DRbJDHXdA==\n",
      "3  2023.10.27   5  jBkQwDDxQqLmpl4GIo4MIQ==  56tpP5Tu1zPm/DRbJDHXdA==\n",
      "4  2023.08.22   5  jBkQwDDxQqLmpl4GIo4MIQ==  56tpP5Tu1zPm/DRbJDHXdA==\n"
     ]
    }
   ],
   "source": [
    "import requests\n",
    "import pandas as pd\n",
    "\n",
    "seq = \"2500050626\"\n",
    "url = (f\"https://asil.kr/app/data/apt_price_m2_mjw_newver_6.jsp?\"\n",
    "       f\"sido=11&dealmode=123&building=officetel&seq={seq}\"\n",
    "       f\"&m2=34&py=19&py_type=&isPyQuery=true&year=9999&start=0&count=10&u=0&order=\")\n",
    "\n",
    "headers = {\n",
    "    \"User-Agent\": \"Mozilla/5.0\",\n",
    "    \"Referer\": \"https://asil.kr/\",\n",
    "    \"X-Requested-With\": \"XMLHttpRequest\",\n",
    "    \"Accept\": \"application/json\"\n",
    "}\n",
    "\n",
    "response = requests.get(url, headers=headers)\n",
    "\n",
    "try:\n",
    "    new_data = response.json()\n",
    "except ValueError:\n",
    "    print(\"JSON 디코딩 실패. 응답 내용:\")\n",
    "    print(response.text)\n",
    "    exit()\n",
    "\n",
    "rows = []\n",
    "\n",
    "if new_data and \"val\" in new_data[0]:\n",
    "    for monthly in new_data[0][\"val\"]:\n",
    "        yyyymm = monthly[\"yyyymm\"]\n",
    "        for daily in monthly[\"val\"]:\n",
    "            day = daily[\"day\"]\n",
    "            for deal in daily[\"val\"]:\n",
    "                rows.append({\n",
    "                    \"거래일\": f\"{yyyymm[:4]}.{yyyymm[4:]}.{day:02}\",\n",
    "                    \"층수\": deal.get(\"floor\"),\n",
    "                    \"가격\": deal.get(\"money\"),\n",
    "                    \"전월세\": deal.get(\"rent\")\n",
    "                })\n",
    "else:\n",
    "    print(\"빈 데이터 혹은 예상 구조와 다름\")\n",
    "    exit()\n",
    "\n",
    "df = pd.DataFrame(rows)\n",
    "print(df.head())"
   ]
  },
  {
   "cell_type": "code",
   "execution_count": 44,
   "id": "7d5254ec",
   "metadata": {},
   "outputs": [],
   "source": [
    "import base64\n",
    "from Crypto.Cipher import AES\n",
    "from Crypto.Util.Padding import unpad\n",
    "\n",
    "\n",
    "\n",
    "def decrypt(encrypted_text, secret):\n",
    "    \"\"\"\n",
    "    AES ECB 모드로 암호화된 텍스트를 복호화합니다.\n",
    "    \n",
    "    Args:\n",
    "        encrypted_text (str): Base64로 인코딩된 암호화된 텍스트\n",
    "    \n",
    "    Returns:\n",
    "        str: 복호화된 평문 텍스트\n",
    "    \"\"\"\n",
    "    # Base64 디코딩\n",
    "    encrypted_bytes = base64.b64decode(encrypted_text)\n",
    "    \n",
    "    # 키 생성\n",
    "    key = get_key(secret)\n",
    "    \n",
    "    # AES 복호화 객체 생성 (ECB 모드)\n",
    "    cipher = AES.new(key, AES.MODE_ECB)\n",
    "    \n",
    "    # 복호화\n",
    "    decrypted_bytes = cipher.decrypt(encrypted_bytes)\n",
    "    \n",
    "    # PKCS7 패딩 제거\n",
    "    unpadded_bytes = unpad(decrypted_bytes, AES.block_size)\n",
    "    \n",
    "    # UTF-8 문자열로 변환\n",
    "    return unpadded_bytes.decode('utf-8')\n",
    "\n",
    "def get_key(secret):\n",
    "    \"\"\"\n",
    "    비밀 문자열을 AES 키로 변환합니다.\n",
    "    키 길이에 따라 적절한 크기로 조정합니다.\n",
    "    \n",
    "    Args:\n",
    "        secret (str): 비밀 문자열\n",
    "    \n",
    "    Returns:\n",
    "        bytes: AES 키 (16, 24, 또는 32 바이트)\n",
    "    \"\"\"\n",
    "    # 문자열을 UTF-8 바이트로 변환\n",
    "    key_bytes = secret.encode('utf-8')\n",
    "    length = len(key_bytes)\n",
    "    \n",
    "    # 키 길이에 따라 조정\n",
    "    if length < 16:\n",
    "        # 16바이트보다 작으면 16바이트로 패딩\n",
    "        adjusted_key = key_bytes[:16].ljust(16, b'\\x00')\n",
    "    elif length > 16 and length < 24:\n",
    "        # 16바이트보다 크고 24바이트보다 작으면 24바이트로 조정\n",
    "        adjusted_key = key_bytes[:24].ljust(24, b'\\x00')\n",
    "    elif length > 24 and length < 32:\n",
    "        # 24바이트보다 크고 32바이트보다 작으면 32바이트로 조정\n",
    "        adjusted_key = key_bytes[:32].ljust(32, b'\\x00')\n",
    "    elif length >= 32:\n",
    "        # 32바이트 이상이면 32바이트로 잘라내기\n",
    "        adjusted_key = key_bytes[:32]\n",
    "    else:\n",
    "        # 정확히 16바이트면 그대로 사용\n",
    "        adjusted_key = key_bytes\n",
    "    \n",
    "    return adjusted_key\n"
   ]
  },
  {
   "cell_type": "code",
   "execution_count": 45,
   "id": "d3e51c0b",
   "metadata": {},
   "outputs": [
    {
     "name": "stdout",
     "output_type": "stream",
     "text": [
      "['7562770413367152500050626']\n"
     ]
    }
   ],
   "source": [
    "import requests\n",
    "import re\n",
    "\n",
    "# apt_info.jsp\n",
    "url = \"https://asil.kr/app/apt_info.jsp?os=pc&move=no&building=officetel&apt=2500050626&min_py=0&max_py=70t\"\n",
    "headers = {\n",
    "    \"User-Agent\": \"Mozilla/5.0\",\n",
    "    \"Referer\": \"https://asil.kr/\",\n",
    "}\n",
    "response = requests.get(url, headers=headers)\n",
    "\n",
    "# HTML 본문\n",
    "html = response.text\n",
    "\n",
    "# 정규표현식으로 getKey(\"숫자\")에서 숫자만 문자열로 추출\n",
    "keys = re.findall(r'getKey\\(\"(\\d+)\"\\)', html)\n",
    "\n",
    "# 결과 확인\n",
    "print(keys) \n"
   ]
  },
  {
   "cell_type": "code",
   "execution_count": 48,
   "id": "86e03e58",
   "metadata": {},
   "outputs": [
    {
     "data": {
      "text/plain": [
       "'2억 3,000'"
      ]
     },
     "execution_count": 48,
     "metadata": {},
     "output_type": "execute_result"
    }
   ],
   "source": [
    "decrypted = decrypt('GJqGHxF0mVUK2hA924nZsA==', '7562770413367152500050626')\n",
    "decrypted"
   ]
  },
  {
   "cell_type": "code",
   "execution_count": null,
   "id": "5e8664f9",
   "metadata": {},
   "outputs": [],
   "source": [
    "data={\n",
    "    '거래일': ['2024.03.16', '2024.02.26', '2024.01.08', '2023.10.27', '2023.08.22'],\n",
    "    '층수': [7, 8, 10, 5, 5],\n",
    "    '가격': ['GJqGHxF0mVUK2hA924nZsA==', 'tqcgRO9LaHZuImSkhEB2Lg==', 'jBkQwDDxQqLmpl4GIo4MIQ==', 'jBkQwDDxQqLmpl4GIo4MIQ==', 'jBkQwDDxQqLmpl4GIo4MIQ=='],\n",
    "    '전월세': ['THTMgvdaJlW9h5Imq76EIA==', '7tY9AJG+CgPO1o/4/Y9wZQ==', '56tpP5Tu1zPm/DRbJDHXdA==', '56tpP5Tu1zPm/DRbJDHXdA==', '56tpP5Tu1zPm/DRbJDHXdA==']\n",
    "}\n",
    "\n",
    "df = pd.DataFrame(data)\n",
    "\n",
    "\n",
    "\n",
    "secret = \"7562770413367152500050626\"\n",
    "\n",
    "\n",
    "\n",
    "\n",
    "\n",
    "\n",
    "\n",
    "def decrypt_column(df, column_name, secret_key):\n",
    "    result = []\n",
    "    for i in range(len(df)):\n",
    "        enc = df.loc[i, column_name]\n",
    "        result.append(decrypt_text(enc, secret_key))\n",
    "    return result\n",
    "\n",
    "# 복호화 실행\n",
    "df[\"복호화_가격\"] = decrypt_column(df, \"가격\", secret)\n",
    "df[\"복호화_전월세\"] = decrypt_column(df, \"전월세\", secret)\n",
    "\n",
    "\n",
    "\n",
    "\n"
   ]
  }
 ],
 "metadata": {
  "kernelspec": {
   "display_name": "mini_project",
   "language": "python",
   "name": "python3"
  },
  "language_info": {
   "codemirror_mode": {
    "name": "ipython",
    "version": 3
   },
   "file_extension": ".py",
   "mimetype": "text/x-python",
   "name": "python",
   "nbconvert_exporter": "python",
   "pygments_lexer": "ipython3",
   "version": "3.10.18"
  }
 },
 "nbformat": 4,
 "nbformat_minor": 5
}
